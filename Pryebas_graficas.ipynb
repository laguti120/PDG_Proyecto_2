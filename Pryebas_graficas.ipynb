{
 "cells": [
  {
   "cell_type": "code",
   "execution_count": 1,
   "id": "a3f8397c",
   "metadata": {},
   "outputs": [],
   "source": [
    "    import pandas as pd\n",
    "    import plotly.express as px"
   ]
  },
  {
   "cell_type": "code",
   "execution_count": 2,
   "id": "9d0c77bd",
   "metadata": {},
   "outputs": [],
   "source": [
    "    # Ejemplo de datos\n",
    "    data = {\n",
    "        'Tarea': ['Diseño', 'Desarrollo', 'Pruebas', 'Lanzamiento'],\n",
    "        'Inicio': ['2025-01-01', '2025-01-15', '2025-02-01', '2025-02-15'],\n",
    "        'Fin': ['2025-01-14', '2025-01-31', '2025-02-14', '2025-03-01'],\n",
    "        'Progreso': [100, 50, 75, 0] # 0-100%\n",
    "    }\n",
    "    df = pd.DataFrame(data)"
   ]
  },
  {
   "cell_type": "code",
   "execution_count": 3,
   "id": "27594aa6",
   "metadata": {},
   "outputs": [],
   "source": [
    "    fig = px.timeline(df,\n",
    "                      x_start=\"Inicio\",\n",
    "                      x_end=\"Fin\",\n",
    "                      y=\"Tarea\",\n",
    "                      color=\"Progreso\", # Colorea las barras según el progreso\n",
    "                      title=\"Diagrama de Gantt del Proyecto\")"
   ]
  },
  {
   "cell_type": "code",
   "execution_count": 4,
   "id": "afc2f7ba",
   "metadata": {},
   "outputs": [
    {
     "data": {
      "application/vnd.plotly.v1+json": {
       "config": {
        "plotlyServerURL": "https://plot.ly"
       },
       "data": [
        {
         "base": [
          "2025-01-01T00:00:00.000000000",
          "2025-01-15T00:00:00.000000000",
          "2025-02-01T00:00:00.000000000",
          "2025-02-15T00:00:00.000000000"
         ],
         "hovertemplate": "Inicio=%{base}<br>Fin=%{x}<br>Tarea=%{y}<br>Progreso=%{marker.color}<extra></extra>",
         "legendgroup": "",
         "marker": {
          "color": {
           "bdata": "ZDJLAA==",
           "dtype": "i1"
          },
          "coloraxis": "coloraxis",
          "pattern": {
           "shape": ""
          }
         },
         "name": "",
         "orientation": "h",
         "showlegend": false,
         "textposition": "auto",
         "type": "bar",
         "x": {
          "bdata": "AKzyQgDAZVIArPJCAAgZSA==",
          "dtype": "i4"
         },
         "xaxis": "x",
         "y": [
          "Diseño",
          "Desarrollo",
          "Pruebas",
          "Lanzamiento"
         ],
         "yaxis": "y"
        }
       ],
       "layout": {
        "barmode": "overlay",
        "coloraxis": {
         "colorbar": {
          "title": {
           "text": "Progreso"
          }
         },
         "colorscale": [
          [
           0,
           "#0d0887"
          ],
          [
           0.1111111111111111,
           "#46039f"
          ],
          [
           0.2222222222222222,
           "#7201a8"
          ],
          [
           0.3333333333333333,
           "#9c179e"
          ],
          [
           0.4444444444444444,
           "#bd3786"
          ],
          [
           0.5555555555555556,
           "#d8576b"
          ],
          [
           0.6666666666666666,
           "#ed7953"
          ],
          [
           0.7777777777777778,
           "#fb9f3a"
          ],
          [
           0.8888888888888888,
           "#fdca26"
          ],
          [
           1,
           "#f0f921"
          ]
         ]
        },
        "legend": {
         "tracegroupgap": 0
        },
        "template": {
         "data": {
          "bar": [
           {
            "error_x": {
             "color": "#2a3f5f"
            },
            "error_y": {
             "color": "#2a3f5f"
            },
            "marker": {
             "line": {
              "color": "#E5ECF6",
              "width": 0.5
             },
             "pattern": {
              "fillmode": "overlay",
              "size": 10,
              "solidity": 0.2
             }
            },
            "type": "bar"
           }
          ],
          "barpolar": [
           {
            "marker": {
             "line": {
              "color": "#E5ECF6",
              "width": 0.5
             },
             "pattern": {
              "fillmode": "overlay",
              "size": 10,
              "solidity": 0.2
             }
            },
            "type": "barpolar"
           }
          ],
          "carpet": [
           {
            "aaxis": {
             "endlinecolor": "#2a3f5f",
             "gridcolor": "white",
             "linecolor": "white",
             "minorgridcolor": "white",
             "startlinecolor": "#2a3f5f"
            },
            "baxis": {
             "endlinecolor": "#2a3f5f",
             "gridcolor": "white",
             "linecolor": "white",
             "minorgridcolor": "white",
             "startlinecolor": "#2a3f5f"
            },
            "type": "carpet"
           }
          ],
          "choropleth": [
           {
            "colorbar": {
             "outlinewidth": 0,
             "ticks": ""
            },
            "type": "choropleth"
           }
          ],
          "contour": [
           {
            "colorbar": {
             "outlinewidth": 0,
             "ticks": ""
            },
            "colorscale": [
             [
              0,
              "#0d0887"
             ],
             [
              0.1111111111111111,
              "#46039f"
             ],
             [
              0.2222222222222222,
              "#7201a8"
             ],
             [
              0.3333333333333333,
              "#9c179e"
             ],
             [
              0.4444444444444444,
              "#bd3786"
             ],
             [
              0.5555555555555556,
              "#d8576b"
             ],
             [
              0.6666666666666666,
              "#ed7953"
             ],
             [
              0.7777777777777778,
              "#fb9f3a"
             ],
             [
              0.8888888888888888,
              "#fdca26"
             ],
             [
              1,
              "#f0f921"
             ]
            ],
            "type": "contour"
           }
          ],
          "contourcarpet": [
           {
            "colorbar": {
             "outlinewidth": 0,
             "ticks": ""
            },
            "type": "contourcarpet"
           }
          ],
          "heatmap": [
           {
            "colorbar": {
             "outlinewidth": 0,
             "ticks": ""
            },
            "colorscale": [
             [
              0,
              "#0d0887"
             ],
             [
              0.1111111111111111,
              "#46039f"
             ],
             [
              0.2222222222222222,
              "#7201a8"
             ],
             [
              0.3333333333333333,
              "#9c179e"
             ],
             [
              0.4444444444444444,
              "#bd3786"
             ],
             [
              0.5555555555555556,
              "#d8576b"
             ],
             [
              0.6666666666666666,
              "#ed7953"
             ],
             [
              0.7777777777777778,
              "#fb9f3a"
             ],
             [
              0.8888888888888888,
              "#fdca26"
             ],
             [
              1,
              "#f0f921"
             ]
            ],
            "type": "heatmap"
           }
          ],
          "histogram": [
           {
            "marker": {
             "pattern": {
              "fillmode": "overlay",
              "size": 10,
              "solidity": 0.2
             }
            },
            "type": "histogram"
           }
          ],
          "histogram2d": [
           {
            "colorbar": {
             "outlinewidth": 0,
             "ticks": ""
            },
            "colorscale": [
             [
              0,
              "#0d0887"
             ],
             [
              0.1111111111111111,
              "#46039f"
             ],
             [
              0.2222222222222222,
              "#7201a8"
             ],
             [
              0.3333333333333333,
              "#9c179e"
             ],
             [
              0.4444444444444444,
              "#bd3786"
             ],
             [
              0.5555555555555556,
              "#d8576b"
             ],
             [
              0.6666666666666666,
              "#ed7953"
             ],
             [
              0.7777777777777778,
              "#fb9f3a"
             ],
             [
              0.8888888888888888,
              "#fdca26"
             ],
             [
              1,
              "#f0f921"
             ]
            ],
            "type": "histogram2d"
           }
          ],
          "histogram2dcontour": [
           {
            "colorbar": {
             "outlinewidth": 0,
             "ticks": ""
            },
            "colorscale": [
             [
              0,
              "#0d0887"
             ],
             [
              0.1111111111111111,
              "#46039f"
             ],
             [
              0.2222222222222222,
              "#7201a8"
             ],
             [
              0.3333333333333333,
              "#9c179e"
             ],
             [
              0.4444444444444444,
              "#bd3786"
             ],
             [
              0.5555555555555556,
              "#d8576b"
             ],
             [
              0.6666666666666666,
              "#ed7953"
             ],
             [
              0.7777777777777778,
              "#fb9f3a"
             ],
             [
              0.8888888888888888,
              "#fdca26"
             ],
             [
              1,
              "#f0f921"
             ]
            ],
            "type": "histogram2dcontour"
           }
          ],
          "mesh3d": [
           {
            "colorbar": {
             "outlinewidth": 0,
             "ticks": ""
            },
            "type": "mesh3d"
           }
          ],
          "parcoords": [
           {
            "line": {
             "colorbar": {
              "outlinewidth": 0,
              "ticks": ""
             }
            },
            "type": "parcoords"
           }
          ],
          "pie": [
           {
            "automargin": true,
            "type": "pie"
           }
          ],
          "scatter": [
           {
            "fillpattern": {
             "fillmode": "overlay",
             "size": 10,
             "solidity": 0.2
            },
            "type": "scatter"
           }
          ],
          "scatter3d": [
           {
            "line": {
             "colorbar": {
              "outlinewidth": 0,
              "ticks": ""
             }
            },
            "marker": {
             "colorbar": {
              "outlinewidth": 0,
              "ticks": ""
             }
            },
            "type": "scatter3d"
           }
          ],
          "scattercarpet": [
           {
            "marker": {
             "colorbar": {
              "outlinewidth": 0,
              "ticks": ""
             }
            },
            "type": "scattercarpet"
           }
          ],
          "scattergeo": [
           {
            "marker": {
             "colorbar": {
              "outlinewidth": 0,
              "ticks": ""
             }
            },
            "type": "scattergeo"
           }
          ],
          "scattergl": [
           {
            "marker": {
             "colorbar": {
              "outlinewidth": 0,
              "ticks": ""
             }
            },
            "type": "scattergl"
           }
          ],
          "scattermap": [
           {
            "marker": {
             "colorbar": {
              "outlinewidth": 0,
              "ticks": ""
             }
            },
            "type": "scattermap"
           }
          ],
          "scattermapbox": [
           {
            "marker": {
             "colorbar": {
              "outlinewidth": 0,
              "ticks": ""
             }
            },
            "type": "scattermapbox"
           }
          ],
          "scatterpolar": [
           {
            "marker": {
             "colorbar": {
              "outlinewidth": 0,
              "ticks": ""
             }
            },
            "type": "scatterpolar"
           }
          ],
          "scatterpolargl": [
           {
            "marker": {
             "colorbar": {
              "outlinewidth": 0,
              "ticks": ""
             }
            },
            "type": "scatterpolargl"
           }
          ],
          "scatterternary": [
           {
            "marker": {
             "colorbar": {
              "outlinewidth": 0,
              "ticks": ""
             }
            },
            "type": "scatterternary"
           }
          ],
          "surface": [
           {
            "colorbar": {
             "outlinewidth": 0,
             "ticks": ""
            },
            "colorscale": [
             [
              0,
              "#0d0887"
             ],
             [
              0.1111111111111111,
              "#46039f"
             ],
             [
              0.2222222222222222,
              "#7201a8"
             ],
             [
              0.3333333333333333,
              "#9c179e"
             ],
             [
              0.4444444444444444,
              "#bd3786"
             ],
             [
              0.5555555555555556,
              "#d8576b"
             ],
             [
              0.6666666666666666,
              "#ed7953"
             ],
             [
              0.7777777777777778,
              "#fb9f3a"
             ],
             [
              0.8888888888888888,
              "#fdca26"
             ],
             [
              1,
              "#f0f921"
             ]
            ],
            "type": "surface"
           }
          ],
          "table": [
           {
            "cells": {
             "fill": {
              "color": "#EBF0F8"
             },
             "line": {
              "color": "white"
             }
            },
            "header": {
             "fill": {
              "color": "#C8D4E3"
             },
             "line": {
              "color": "white"
             }
            },
            "type": "table"
           }
          ]
         },
         "layout": {
          "annotationdefaults": {
           "arrowcolor": "#2a3f5f",
           "arrowhead": 0,
           "arrowwidth": 1
          },
          "autotypenumbers": "strict",
          "coloraxis": {
           "colorbar": {
            "outlinewidth": 0,
            "ticks": ""
           }
          },
          "colorscale": {
           "diverging": [
            [
             0,
             "#8e0152"
            ],
            [
             0.1,
             "#c51b7d"
            ],
            [
             0.2,
             "#de77ae"
            ],
            [
             0.3,
             "#f1b6da"
            ],
            [
             0.4,
             "#fde0ef"
            ],
            [
             0.5,
             "#f7f7f7"
            ],
            [
             0.6,
             "#e6f5d0"
            ],
            [
             0.7,
             "#b8e186"
            ],
            [
             0.8,
             "#7fbc41"
            ],
            [
             0.9,
             "#4d9221"
            ],
            [
             1,
             "#276419"
            ]
           ],
           "sequential": [
            [
             0,
             "#0d0887"
            ],
            [
             0.1111111111111111,
             "#46039f"
            ],
            [
             0.2222222222222222,
             "#7201a8"
            ],
            [
             0.3333333333333333,
             "#9c179e"
            ],
            [
             0.4444444444444444,
             "#bd3786"
            ],
            [
             0.5555555555555556,
             "#d8576b"
            ],
            [
             0.6666666666666666,
             "#ed7953"
            ],
            [
             0.7777777777777778,
             "#fb9f3a"
            ],
            [
             0.8888888888888888,
             "#fdca26"
            ],
            [
             1,
             "#f0f921"
            ]
           ],
           "sequentialminus": [
            [
             0,
             "#0d0887"
            ],
            [
             0.1111111111111111,
             "#46039f"
            ],
            [
             0.2222222222222222,
             "#7201a8"
            ],
            [
             0.3333333333333333,
             "#9c179e"
            ],
            [
             0.4444444444444444,
             "#bd3786"
            ],
            [
             0.5555555555555556,
             "#d8576b"
            ],
            [
             0.6666666666666666,
             "#ed7953"
            ],
            [
             0.7777777777777778,
             "#fb9f3a"
            ],
            [
             0.8888888888888888,
             "#fdca26"
            ],
            [
             1,
             "#f0f921"
            ]
           ]
          },
          "colorway": [
           "#636efa",
           "#EF553B",
           "#00cc96",
           "#ab63fa",
           "#FFA15A",
           "#19d3f3",
           "#FF6692",
           "#B6E880",
           "#FF97FF",
           "#FECB52"
          ],
          "font": {
           "color": "#2a3f5f"
          },
          "geo": {
           "bgcolor": "white",
           "lakecolor": "white",
           "landcolor": "#E5ECF6",
           "showlakes": true,
           "showland": true,
           "subunitcolor": "white"
          },
          "hoverlabel": {
           "align": "left"
          },
          "hovermode": "closest",
          "mapbox": {
           "style": "light"
          },
          "paper_bgcolor": "white",
          "plot_bgcolor": "#E5ECF6",
          "polar": {
           "angularaxis": {
            "gridcolor": "white",
            "linecolor": "white",
            "ticks": ""
           },
           "bgcolor": "#E5ECF6",
           "radialaxis": {
            "gridcolor": "white",
            "linecolor": "white",
            "ticks": ""
           }
          },
          "scene": {
           "xaxis": {
            "backgroundcolor": "#E5ECF6",
            "gridcolor": "white",
            "gridwidth": 2,
            "linecolor": "white",
            "showbackground": true,
            "ticks": "",
            "zerolinecolor": "white"
           },
           "yaxis": {
            "backgroundcolor": "#E5ECF6",
            "gridcolor": "white",
            "gridwidth": 2,
            "linecolor": "white",
            "showbackground": true,
            "ticks": "",
            "zerolinecolor": "white"
           },
           "zaxis": {
            "backgroundcolor": "#E5ECF6",
            "gridcolor": "white",
            "gridwidth": 2,
            "linecolor": "white",
            "showbackground": true,
            "ticks": "",
            "zerolinecolor": "white"
           }
          },
          "shapedefaults": {
           "line": {
            "color": "#2a3f5f"
           }
          },
          "ternary": {
           "aaxis": {
            "gridcolor": "white",
            "linecolor": "white",
            "ticks": ""
           },
           "baxis": {
            "gridcolor": "white",
            "linecolor": "white",
            "ticks": ""
           },
           "bgcolor": "#E5ECF6",
           "caxis": {
            "gridcolor": "white",
            "linecolor": "white",
            "ticks": ""
           }
          },
          "title": {
           "x": 0.05
          },
          "xaxis": {
           "automargin": true,
           "gridcolor": "white",
           "linecolor": "white",
           "ticks": "",
           "title": {
            "standoff": 15
           },
           "zerolinecolor": "white",
           "zerolinewidth": 2
          },
          "yaxis": {
           "automargin": true,
           "gridcolor": "white",
           "linecolor": "white",
           "ticks": "",
           "title": {
            "standoff": 15
           },
           "zerolinecolor": "white",
           "zerolinewidth": 2
          }
         }
        },
        "title": {
         "text": "Diagrama de Gantt del Proyecto"
        },
        "xaxis": {
         "anchor": "y",
         "domain": [
          0,
          1
         ],
         "title": {
          "text": "Duración"
         },
         "type": "date"
        },
        "yaxis": {
         "anchor": "x",
         "autorange": "reversed",
         "domain": [
          0,
          1
         ],
         "title": {
          "text": "Actividad"
         }
        }
       }
      }
     },
     "metadata": {},
     "output_type": "display_data"
    }
   ],
   "source": [
    "    fig.update_yaxes(autorange=\"reversed\") # Ordena las tareas de arriba hacia abajo\n",
    "    fig.update_layout(xaxis_title=\"Duración\", yaxis_title=\"Actividad\")\n",
    "    fig.show()"
   ]
  },
  {
   "cell_type": "markdown",
   "id": "b3fe2a94",
   "metadata": {},
   "source": [
    "# Prueba del Algoritmo de Empaquetado\n",
    "Simulación de la nueva lógica de no fragmentación de registros ≤38 muestras."
   ]
  },
  {
   "cell_type": "code",
   "execution_count": 2,
   "id": "edae683d",
   "metadata": {},
   "outputs": [
    {
     "name": "stdout",
     "output_type": "stream",
     "text": [
      "=== SIMULACIÓN DE EMPAQUETADO ===\n",
      "Capacidad diaria: 38\n",
      "Capacidad restante inicial: 38\n",
      "\n",
      "Registros disponibles:\n",
      "- R1: 30 muestras\n",
      "- R2: 8 muestras\n",
      "- R3: 15 muestras\n",
      "- R4: 5 muestras\n",
      "- R5: 45 muestras\n"
     ]
    }
   ],
   "source": [
    "# Ejemplo de registros y capacidad\n",
    "registros = [\n",
    "    {\"Registro\": \"R1\", \"Muestras\": 30, \"Grupo\": \"A\"},\n",
    "    {\"Registro\": \"R2\", \"Muestras\": 8, \"Grupo\": \"A\"},\n",
    "    {\"Registro\": \"R3\", \"Muestras\": 15, \"Grupo\": \"A\"},\n",
    "    {\"Registro\": \"R4\", \"Muestras\": 5, \"Grupo\": \"A\"},\n",
    "    {\"Registro\": \"R5\", \"Muestras\": 45, \"Grupo\": \"A\"},  # >38, se puede fraccionar\n",
    "]\n",
    "\n",
    "capacidad_diaria = 38\n",
    "capacidad_restante = 38\n",
    "\n",
    "print(\"=== SIMULACIÓN DE EMPAQUETADO ===\")\n",
    "print(f\"Capacidad diaria: {capacidad_diaria}\")\n",
    "print(f\"Capacidad restante inicial: {capacidad_restante}\")\n",
    "print(\"\\nRegistros disponibles:\")\n",
    "for r in registros:\n",
    "    print(f\"- {r['Registro']}: {r['Muestras']} muestras\")"
   ]
  },
  {
   "cell_type": "code",
   "execution_count": 3,
   "id": "92f2bcb5",
   "metadata": {},
   "outputs": [
    {
     "name": "stdout",
     "output_type": "stream",
     "text": [
      "\n",
      "=== PROCESAMIENTO ===\n",
      "✅ Procesando R1: 30 muestras\n",
      "   Capacidad restante: 8\n",
      "✅ Procesando R2: 8 muestras\n",
      "   Capacidad restante: 0\n",
      "\n",
      "Capacidad restante después de registros ≤38: 0\n",
      "\n",
      "=== RESULTADO ===\n",
      "Total procesado: 38 muestras\n",
      "Capacidad utilizada: 38/38 (100.0%)\n",
      "Registros procesados:\n",
      "- R1: 30 muestras\n",
      "- R2: 8 muestras\n"
     ]
    }
   ],
   "source": [
    "# Algoritmo de empaquetado (simulación)\n",
    "procesados = []\n",
    "restante = capacidad_restante\n",
    "\n",
    "print(\"\\n=== PROCESAMIENTO ===\")\n",
    "\n",
    "# Paso 1: Procesar registros ≤38 muestras (no se pueden dividir)\n",
    "while restante > 0:\n",
    "    mejor_registro = None\n",
    "    mejor_idx = None\n",
    "    \n",
    "    # Buscar el registro más grande que quepa\n",
    "    for i, r in enumerate(registros):\n",
    "        if r[\"Muestras\"] <= capacidad_diaria and r[\"Muestras\"] <= restante:\n",
    "            if mejor_registro is None or r[\"Muestras\"] > mejor_registro[\"Muestras\"]:\n",
    "                mejor_registro = r\n",
    "                mejor_idx = i\n",
    "    \n",
    "    if mejor_registro:\n",
    "        print(f\"✅ Procesando {mejor_registro['Registro']}: {mejor_registro['Muestras']} muestras\")\n",
    "        procesados.append(mejor_registro)\n",
    "        restante -= mejor_registro[\"Muestras\"]\n",
    "        registros.pop(mejor_idx)\n",
    "        print(f\"   Capacidad restante: {restante}\")\n",
    "    else:\n",
    "        break\n",
    "\n",
    "print(f\"\\nCapacidad restante después de registros ≤38: {restante}\")\n",
    "\n",
    "# Paso 2: Si queda capacidad y no se procesó nada, intentar con registros >38\n",
    "if not procesados and restante > 0:\n",
    "    for r in registros:\n",
    "        if r[\"Muestras\"] > capacidad_diaria:\n",
    "            tomar = min(r[\"Muestras\"], restante)\n",
    "            print(f\"🔄 Fraccionando {r['Registro']}: {tomar} de {r['Muestras']} muestras\")\n",
    "            procesados.append({\"Registro\": r[\"Registro\"], \"Muestras\": tomar, \"Grupo\": r[\"Grupo\"]})\n",
    "            restante -= tomar\n",
    "            break\n",
    "\n",
    "print(f\"\\n=== RESULTADO ===\")\n",
    "print(f\"Total procesado: {sum(p['Muestras'] for p in procesados)} muestras\")\n",
    "print(f\"Capacidad utilizada: {capacidad_diaria - restante}/{capacidad_diaria} ({((capacidad_diaria - restante)/capacidad_diaria*100):.1f}%)\")\n",
    "print(\"Registros procesados:\")\n",
    "for p in procesados:\n",
    "    print(f\"- {p['Registro']}: {p['Muestras']} muestras\")"
   ]
  }
 ],
 "metadata": {
  "kernelspec": {
   "display_name": "Python 3",
   "language": "python",
   "name": "python3"
  },
  "language_info": {
   "codemirror_mode": {
    "name": "ipython",
    "version": 3
   },
   "file_extension": ".py",
   "mimetype": "text/x-python",
   "name": "python",
   "nbconvert_exporter": "python",
   "pygments_lexer": "ipython3",
   "version": "3.13.7"
  }
 },
 "nbformat": 4,
 "nbformat_minor": 5
}
